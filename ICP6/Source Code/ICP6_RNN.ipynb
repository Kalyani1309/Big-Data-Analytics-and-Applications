{
  "nbformat": 4,
  "nbformat_minor": 0,
  "metadata": {
    "colab": {
      "name": "ICP6_RNN.ipynb",
      "provenance": [],
      "collapsed_sections": []
    },
    "kernelspec": {
      "name": "python3",
      "display_name": "Python 3"
    },
    "accelerator": "GPU"
  },
  "cells": [
    {
      "cell_type": "code",
      "metadata": {
        "id": "8ytaPiTOaAz7"
      },
      "source": [
        "import os\n",
        "import time\n",
        "import pandas as pd\n",
        "import numpy as np\n",
        "import re\n",
        "import tensorflow as tf\n",
        "from keras.preprocessing.text import Tokenizer\n",
        "from sklearn.preprocessing import LabelEncoder\n",
        "from keras.preprocessing.sequence import pad_sequences\n",
        "from keras.models import Sequential, load_model\n",
        "from keras.layers import Dense, Embedding, LSTM, Dropout\n",
        "from keras.callbacks import TensorBoard, ModelCheckpoint\n",
        "from keras.utils.np_utils import to_categorical\n",
        "from matplotlib import pyplot\n",
        "from sklearn.model_selection import train_test_split\n",
        "\n",
        "import warnings\n",
        "warnings.filterwarnings('ignore')"
      ],
      "execution_count": 37,
      "outputs": []
    },
    {
      "cell_type": "markdown",
      "metadata": {
        "id": "SA31oN89MXL7"
      },
      "source": [
        "## Part 1: Use existing model provided in the use-case"
      ]
    },
    {
      "cell_type": "code",
      "metadata": {
        "id": "0-zN2m7n5n-E",
        "colab": {
          "base_uri": "https://localhost:8080/"
        },
        "outputId": "b2511f2a-f849-4148-9e3a-1dadaefe7d08"
      },
      "source": [
        "# Read, then decode for py2 compat.\n",
        "path_to_file = \"/content/wonderland.txt\"\n",
        "text = open(path_to_file, 'rb').read().decode(encoding='utf-8')\n",
        "# length of text is the number of characters in it\n",
        "print ('Length of text: {} characters'.format(len(text)))"
      ],
      "execution_count": 43,
      "outputs": [
        {
          "output_type": "stream",
          "name": "stdout",
          "text": [
            "Length of text: 166963 characters\n"
          ]
        }
      ]
    },
    {
      "cell_type": "code",
      "metadata": {
        "colab": {
          "base_uri": "https://localhost:8080/"
        },
        "id": "dbGIloFT6RAd",
        "outputId": "1db9be26-5a14-4685-d598-49ff2699f1ab"
      },
      "source": [
        "# Take a look at the first 250 characters in text\n",
        "print(text[:250])"
      ],
      "execution_count": 44,
      "outputs": [
        {
          "output_type": "stream",
          "name": "stdout",
          "text": [
            "﻿*** START OF THIS PROJECT GUTENBERG EBOOK ALICE'S ADVENTURES IN WONDERLAND ***\r\n",
            "ALICE'S ADVENTURES IN WONDERLAND\r\n",
            "\r\n",
            "Lewis Carroll\r\n",
            "\r\n",
            "THE MILLENNIUM FULCRUM EDITION 3.0\r\n",
            "\r\n",
            "CHAPTER I. Down the Rabbit-Hole\r\n",
            "\r\n",
            "Alice was beginning to get very tired of si\n"
          ]
        }
      ]
    },
    {
      "cell_type": "code",
      "metadata": {
        "colab": {
          "base_uri": "https://localhost:8080/"
        },
        "id": "APAI8GZRqhLv",
        "outputId": "9a8e6199-c126-4a3e-a71a-ca8173e1f23d"
      },
      "source": [
        "# The unique characters in the file\n",
        "vocab = sorted(set(text))\n",
        "print ('{} unique characters'.format(len(vocab)))"
      ],
      "execution_count": 45,
      "outputs": [
        {
          "output_type": "stream",
          "name": "stdout",
          "text": [
            "85 unique characters\n"
          ]
        }
      ]
    },
    {
      "cell_type": "markdown",
      "metadata": {
        "id": "ap6LKRZvbYx1"
      },
      "source": [
        "Process the text\n",
        "\n",
        "Vectorize the text\n",
        "\n",
        "Before training, we need to map strings to a numerical representation. Create two lookup tables: one mapping characters to numbers, and another for numbers to characters."
      ]
    },
    {
      "cell_type": "code",
      "metadata": {
        "id": "LlJwkz5RbdMw"
      },
      "source": [
        "# Creating a mapping from unique characters to indices\n",
        "char2idx = {u:i for i, u in enumerate(vocab)}\n",
        "idx2char = np.array(vocab)\n",
        "\n",
        "text_as_int = np.array([char2idx[c] for c in text])"
      ],
      "execution_count": 46,
      "outputs": []
    },
    {
      "cell_type": "markdown",
      "metadata": {
        "id": "1TJxiSQ1hhNW"
      },
      "source": [
        "The prediction task\n",
        "\n",
        "Given a character, or a sequence of characters, what is the most probable next character? This is the task we're training the model to perform. The input to the model will be a sequence of characters, and we train the model to predict the output—the following character at each time step.\n",
        "\n",
        "Since RNNs maintain an internal state that depends on the previously seen elements, given all the characters computed until this moment, what is the next character?\n",
        "\n",
        "Create training examples and targets\n",
        "\n",
        "Next divide the text into example sequences. Each input sequence will contain seq_length characters from the text.\n",
        "\n",
        "For each input sequence, the corresponding targets contain the same length of text, except shifted one character to the right.\n",
        "\n",
        "So break the text into chunks of seq_length+1. For example, say seq_length is 4 and our text is \"Hello\". The input sequence would be \"Hell\", and the target sequence \"ello\".\n",
        "\n",
        "To do this first use the tf.data.Dataset.from_tensor_slices function to convert the text vector into a stream of character indices."
      ]
    },
    {
      "cell_type": "code",
      "metadata": {
        "id": "tuF_yJGthnvN",
        "colab": {
          "base_uri": "https://localhost:8080/"
        },
        "outputId": "c40201d3-5295-4161-8f7f-c96618d4d6dd"
      },
      "source": [
        "# The maximum length sentence we want for a single input in characters\n",
        "seq_length = 100\n",
        "examples_per_epoch = len(text)//(seq_length+1)\n",
        "\n",
        "# Create training examples / targets\n",
        "char_dataset = tf.data.Dataset.from_tensor_slices(text_as_int)\n",
        "\n",
        "for i in char_dataset.take(5):\n",
        "  print(idx2char[i.numpy()])"
      ],
      "execution_count": 47,
      "outputs": [
        {
          "output_type": "stream",
          "name": "stdout",
          "text": [
            "﻿\n",
            "*\n",
            "*\n",
            "*\n",
            " \n"
          ]
        }
      ]
    },
    {
      "cell_type": "markdown",
      "metadata": {
        "id": "EtyvL4vFiDW9"
      },
      "source": [
        "The batch method lets us easily convert these individual characters to sequences of the desired size."
      ]
    },
    {
      "cell_type": "code",
      "metadata": {
        "id": "fDzAi9mmiG6J",
        "colab": {
          "base_uri": "https://localhost:8080/"
        },
        "outputId": "8793b436-f6b3-4030-a4d3-c607e9117999"
      },
      "source": [
        "sequences = char_dataset.batch(seq_length+1, drop_remainder=True)\n",
        "\n",
        "for item in sequences.take(5):\n",
        "  print(repr(''.join(idx2char[item.numpy()])))"
      ],
      "execution_count": 48,
      "outputs": [
        {
          "output_type": "stream",
          "name": "stdout",
          "text": [
            "\"\\ufeff*** START OF THIS PROJECT GUTENBERG EBOOK ALICE'S ADVENTURES IN WONDERLAND ***\\r\\nALICE'S ADVENTURES I\"\n",
            "'N WONDERLAND\\r\\n\\r\\nLewis Carroll\\r\\n\\r\\nTHE MILLENNIUM FULCRUM EDITION 3.0\\r\\n\\r\\nCHAPTER I. Down the Rabbit-Hol'\n",
            "'e\\r\\n\\r\\nAlice was beginning to get very tired of sitting by her sister on the\\r\\nbank, and of having nothi'\n",
            "'ng to do: once or twice she had peeped into the\\r\\nbook her sister was reading, but it had no pictures '\n",
            "\"or conversations in\\r\\nit, 'and what is the use of a book,' thought Alice 'without pictures or\\r\\nconvers\"\n"
          ]
        }
      ]
    },
    {
      "cell_type": "markdown",
      "metadata": {
        "id": "Lpa_PJ1kilMf"
      },
      "source": [
        "For each sequence, duplicate and shift it to form the input and target text by using the map method to apply a simple function to each batch:"
      ]
    },
    {
      "cell_type": "code",
      "metadata": {
        "id": "6Fz9l6xTimnV"
      },
      "source": [
        "def split_input_target(chunk):\n",
        "  input_text = chunk[:-1]\n",
        "  target_text = chunk[1:]\n",
        "  return input_text, target_text\n",
        "\n",
        "dataset = sequences.map(split_input_target)"
      ],
      "execution_count": 49,
      "outputs": []
    },
    {
      "cell_type": "markdown",
      "metadata": {
        "id": "d0TUAUR_i39T"
      },
      "source": [
        "Print the first examples input and target values:"
      ]
    },
    {
      "cell_type": "code",
      "metadata": {
        "id": "9loei1c-i5fT",
        "colab": {
          "base_uri": "https://localhost:8080/"
        },
        "outputId": "6eea012f-4ff6-4d9e-dbe4-c8ee9ef5b818"
      },
      "source": [
        "for input_example, target_example in  dataset.take(1):\n",
        "  print ('Input data: ', repr(''.join(idx2char[input_example.numpy()])))\n",
        "  print ('Target data:', repr(''.join(idx2char[target_example.numpy()])))"
      ],
      "execution_count": 50,
      "outputs": [
        {
          "output_type": "stream",
          "name": "stdout",
          "text": [
            "Input data:  \"\\ufeff*** START OF THIS PROJECT GUTENBERG EBOOK ALICE'S ADVENTURES IN WONDERLAND ***\\r\\nALICE'S ADVENTURES \"\n",
            "Target data: \"*** START OF THIS PROJECT GUTENBERG EBOOK ALICE'S ADVENTURES IN WONDERLAND ***\\r\\nALICE'S ADVENTURES I\"\n"
          ]
        }
      ]
    },
    {
      "cell_type": "markdown",
      "metadata": {
        "id": "gTXfK1w6jtTg"
      },
      "source": [
        "Create training batches\n",
        "\n",
        "We used tf.data to split the text into manageable sequences. But before feeding this data into the model, we need to shuffle the data and pack it into batches."
      ]
    },
    {
      "cell_type": "code",
      "metadata": {
        "id": "Hpe5_lsee4dg",
        "colab": {
          "base_uri": "https://localhost:8080/"
        },
        "outputId": "4a8375e2-0a4b-4eec-db83-252dec1ea04b"
      },
      "source": [
        "# Batch size\n",
        "BATCH_SIZE = 64\n",
        "\n",
        "# Buffer size to shuffle the dataset\n",
        "# (TF data is designed to work with possibly infinite sequences,\n",
        "# so it doesn't attempt to shuffle the entire sequence in memory. Instead,\n",
        "# it maintains a buffer in which it shuffles elements).\n",
        "BUFFER_SIZE = 10000\n",
        "\n",
        "dataset = dataset.shuffle(BUFFER_SIZE).batch(BATCH_SIZE, drop_remainder=True)\n",
        "\n",
        "dataset"
      ],
      "execution_count": 51,
      "outputs": [
        {
          "output_type": "execute_result",
          "data": {
            "text/plain": [
              "<BatchDataset shapes: ((64, 100), (64, 100)), types: (tf.int64, tf.int64)>"
            ]
          },
          "metadata": {},
          "execution_count": 51
        }
      ]
    },
    {
      "cell_type": "markdown",
      "metadata": {
        "id": "EYEKPJ-NkbSh"
      },
      "source": [
        "Build The Model\n",
        "\n",
        "Use tf.keras.Sequential to define the model. For this simple example three layers are used to define our model:\n",
        "\n",
        "tf.keras.layers.Embedding: The input layer. A trainable lookup table that will map the numbers of each character to a vector with embedding_dim dimensions;\n",
        "\n",
        "tf.keras.layers.GRU: A type of RNN with size units=rnn_units (You can also use a LSTM layer here.)\n",
        "\n",
        "tf.keras.layers.Dense: The output layer, with vocab_size outputs."
      ]
    },
    {
      "cell_type": "code",
      "metadata": {
        "id": "WHaiwI1_knUL"
      },
      "source": [
        "# Length of the vocabulary in chars\n",
        "vocab_size = len(vocab)\n",
        "\n",
        "# The embedding dimension\n",
        "embedding_dim = 256\n",
        "\n",
        "# Number of RNN units\n",
        "rnn_units = 1024"
      ],
      "execution_count": 52,
      "outputs": []
    },
    {
      "cell_type": "code",
      "metadata": {
        "id": "vqDUtzUblPuG"
      },
      "source": [
        "def build_model(vocab_size, embedding_dim, rnn_units, batch_size):\n",
        "  model = tf.keras.Sequential([\n",
        "    tf.keras.layers.Embedding(vocab_size, embedding_dim,\n",
        "                              batch_input_shape=[batch_size, None]),\n",
        "    tf.keras.layers.GRU(rnn_units,\n",
        "                        return_sequences=True,\n",
        "                        stateful=True,\n",
        "                        recurrent_initializer='glorot_uniform'),\n",
        "    tf.keras.layers.Dense(vocab_size)\n",
        "  ])\n",
        "  return model"
      ],
      "execution_count": 53,
      "outputs": []
    },
    {
      "cell_type": "code",
      "metadata": {
        "id": "PZ4QMEsMlZV6",
        "colab": {
          "base_uri": "https://localhost:8080/"
        },
        "outputId": "7bd39b02-d5bd-49f1-d4b0-01c76eda16aa"
      },
      "source": [
        "model = build_model(\n",
        "    vocab_size = len(vocab),\n",
        "    embedding_dim=embedding_dim,\n",
        "    rnn_units=rnn_units,\n",
        "    batch_size=BATCH_SIZE)"
      ],
      "execution_count": 54,
      "outputs": [
        {
          "output_type": "stream",
          "name": "stdout",
          "text": [
            "WARNING:tensorflow:Unresolved object in checkpoint: (root).optimizer\n",
            "WARNING:tensorflow:Unresolved object in checkpoint: (root).optimizer.iter\n",
            "WARNING:tensorflow:Unresolved object in checkpoint: (root).optimizer.beta_1\n",
            "WARNING:tensorflow:Unresolved object in checkpoint: (root).optimizer.beta_2\n",
            "WARNING:tensorflow:Unresolved object in checkpoint: (root).optimizer.decay\n",
            "WARNING:tensorflow:Unresolved object in checkpoint: (root).optimizer.learning_rate\n",
            "WARNING:tensorflow:Unresolved object in checkpoint: (root).optimizer's state 'm' for (root).layer_with_weights-0.embeddings\n",
            "WARNING:tensorflow:Unresolved object in checkpoint: (root).optimizer's state 'm' for (root).layer_with_weights-2.kernel\n",
            "WARNING:tensorflow:Unresolved object in checkpoint: (root).optimizer's state 'm' for (root).layer_with_weights-2.bias\n",
            "WARNING:tensorflow:Unresolved object in checkpoint: (root).optimizer's state 'm' for (root).layer_with_weights-1.cell.kernel\n",
            "WARNING:tensorflow:Unresolved object in checkpoint: (root).optimizer's state 'm' for (root).layer_with_weights-1.cell.recurrent_kernel\n",
            "WARNING:tensorflow:Unresolved object in checkpoint: (root).optimizer's state 'm' for (root).layer_with_weights-1.cell.bias\n",
            "WARNING:tensorflow:Unresolved object in checkpoint: (root).optimizer's state 'v' for (root).layer_with_weights-0.embeddings\n",
            "WARNING:tensorflow:Unresolved object in checkpoint: (root).optimizer's state 'v' for (root).layer_with_weights-2.kernel\n",
            "WARNING:tensorflow:Unresolved object in checkpoint: (root).optimizer's state 'v' for (root).layer_with_weights-2.bias\n",
            "WARNING:tensorflow:Unresolved object in checkpoint: (root).optimizer's state 'v' for (root).layer_with_weights-1.cell.kernel\n",
            "WARNING:tensorflow:Unresolved object in checkpoint: (root).optimizer's state 'v' for (root).layer_with_weights-1.cell.recurrent_kernel\n",
            "WARNING:tensorflow:Unresolved object in checkpoint: (root).optimizer's state 'v' for (root).layer_with_weights-1.cell.bias\n",
            "WARNING:tensorflow:A checkpoint was restored (e.g. tf.train.Checkpoint.restore or tf.keras.Model.load_weights) but not all checkpointed values were used. See above for specific issues. Use expect_partial() on the load status object, e.g. tf.train.Checkpoint.restore(...).expect_partial(), to silence these warnings, or use assert_consumed() to make the check explicit. See https://www.tensorflow.org/guide/checkpoint#loading_mechanics for details.\n"
          ]
        }
      ]
    },
    {
      "cell_type": "markdown",
      "metadata": {
        "id": "qzqB_vXQlsra"
      },
      "source": [
        "Try the model\n",
        "\n",
        "Now run the model to see that it behaves as expected.\n",
        "\n",
        "First check the shape of the output:"
      ]
    },
    {
      "cell_type": "code",
      "metadata": {
        "id": "GGTwvn-9mch1",
        "colab": {
          "base_uri": "https://localhost:8080/"
        },
        "outputId": "f301ac09-4799-4912-cdc4-7ef23f9313ea"
      },
      "source": [
        "for input_example_batch, target_example_batch in dataset.take(1):\n",
        "  example_batch_predictions = model(input_example_batch)\n",
        "  print(example_batch_predictions.shape, \"# (batch_size, sequence_length, vocab_size)\")"
      ],
      "execution_count": 55,
      "outputs": [
        {
          "output_type": "stream",
          "name": "stdout",
          "text": [
            "(64, 100, 85) # (batch_size, sequence_length, vocab_size)\n"
          ]
        }
      ]
    },
    {
      "cell_type": "markdown",
      "metadata": {
        "id": "Bw4GhU0ImwZ_"
      },
      "source": [
        "In the above example the sequence length of the input is 100 but the model can be run on inputs of any length:"
      ]
    },
    {
      "cell_type": "code",
      "metadata": {
        "id": "RxKU4npylbZs",
        "colab": {
          "base_uri": "https://localhost:8080/"
        },
        "outputId": "ce8d6349-75bc-49d3-d4db-9e55b0984d78"
      },
      "source": [
        "model.summary()"
      ],
      "execution_count": 56,
      "outputs": [
        {
          "output_type": "stream",
          "name": "stdout",
          "text": [
            "Model: \"sequential_3\"\n",
            "_________________________________________________________________\n",
            "Layer (type)                 Output Shape              Param #   \n",
            "=================================================================\n",
            "embedding_3 (Embedding)      (64, None, 256)           21760     \n",
            "_________________________________________________________________\n",
            "gru_3 (GRU)                  (64, None, 1024)          3938304   \n",
            "_________________________________________________________________\n",
            "dense_3 (Dense)              (64, None, 85)            87125     \n",
            "=================================================================\n",
            "Total params: 4,047,189\n",
            "Trainable params: 4,047,189\n",
            "Non-trainable params: 0\n",
            "_________________________________________________________________\n"
          ]
        }
      ]
    },
    {
      "cell_type": "markdown",
      "metadata": {
        "id": "RY9RA1IjnVPy"
      },
      "source": [
        "To get actual predictions from the model we need to sample from the output distribution, to get actual character indices. This distribution is defined by the logits over the character vocabulary.\n",
        "\n",
        "Note: It is important to sample from this distribution as taking the argmax of the distribution can easily get the model stuck in a loop.\n",
        "\n",
        "Try it for the first example in the batch:"
      ]
    },
    {
      "cell_type": "code",
      "metadata": {
        "id": "klpi-b6ZnA4v",
        "colab": {
          "base_uri": "https://localhost:8080/"
        },
        "outputId": "3bf39e46-726f-4cbf-95dd-51f76fdcb4b7"
      },
      "source": [
        "sampled_indices = tf.random.categorical(example_batch_predictions[0], num_samples=1)\n",
        "sampled_indices = tf.squeeze(sampled_indices,axis=-1).numpy()\n",
        "#This gives us, at each timestep, a prediction of the next character index:\n",
        "sampled_indices"
      ],
      "execution_count": 57,
      "outputs": [
        {
          "output_type": "execute_result",
          "data": {
            "text/plain": [
              "array([78, 25, 80, 71, 55, 16,  5, 54, 59, 52, 46, 45, 41, 43, 10, 55, 62,\n",
              "        2, 17, 41, 11, 67,  1, 16, 58, 74, 42, 11,  2, 62,  2, 72, 48, 46,\n",
              "        7, 79, 84,  8,  3, 82, 28, 28, 84, 62,  9, 77, 41, 29, 73, 19, 45,\n",
              "       13, 62, 35, 84, 45,  5, 82, 65, 59, 14, 70, 33, 35, 81, 10, 21, 84,\n",
              "       17,  6, 72, 61, 27, 24, 80, 23, 10, 48, 16, 69, 11,  0, 81, 84, 52,\n",
              "       21, 23, 53, 31, 29, 21, 24, 45, 44, 19, 70, 56, 30, 44, 65])"
            ]
          },
          "metadata": {},
          "execution_count": 57
        }
      ]
    },
    {
      "cell_type": "markdown",
      "metadata": {
        "id": "8cpt66icn3LZ"
      },
      "source": [
        "Train the model\n",
        "\n",
        "At this point the problem can be treated as a standard classification problem. Given the previous RNN state, and the input this time step, predict the class of the next character.\n",
        "\n",
        "Attach an optimizer, and a loss function\n",
        "The standard tf.keras.losses.sparse_categorical_crossentropy loss function works in this case because it is applied across the last dimension of the predictions.\n",
        "\n",
        "Because our model returns logits, we need to set the from_logits flag."
      ]
    },
    {
      "cell_type": "code",
      "metadata": {
        "id": "XL77odsVn7G4",
        "colab": {
          "base_uri": "https://localhost:8080/"
        },
        "outputId": "36651cb5-ed24-4d24-cb53-098232f44bf2"
      },
      "source": [
        "def loss(labels, logits):\n",
        "  return tf.keras.losses.sparse_categorical_crossentropy(labels, logits, from_logits=True)\n",
        "\n",
        "example_batch_loss  = loss(target_example_batch, example_batch_predictions)\n",
        "print(\"Prediction shape: \", example_batch_predictions.shape, \" # (batch_size, sequence_length, vocab_size)\")\n",
        "print(\"scalar_loss:      \", example_batch_loss.numpy().mean())"
      ],
      "execution_count": 58,
      "outputs": [
        {
          "output_type": "stream",
          "name": "stdout",
          "text": [
            "Prediction shape:  (64, 100, 85)  # (batch_size, sequence_length, vocab_size)\n",
            "scalar_loss:       4.441744\n"
          ]
        }
      ]
    },
    {
      "cell_type": "markdown",
      "metadata": {
        "id": "WAZQZedVoRzi"
      },
      "source": [
        "Configure the training procedure using the tf.keras.Model.compile method. We'll use tf.keras.optimizers.Adam with default arguments and the loss function."
      ]
    },
    {
      "cell_type": "code",
      "metadata": {
        "id": "ROcK85vxoSGB"
      },
      "source": [
        "model.compile(optimizer='adam', loss=loss)"
      ],
      "execution_count": 59,
      "outputs": []
    },
    {
      "cell_type": "markdown",
      "metadata": {
        "id": "6wsLm3DcolOB"
      },
      "source": [
        "Configure checkpoints\n",
        "\n",
        "Use a tf.keras.callbacks.ModelCheckpoint to ensure that checkpoints are saved during training:"
      ]
    },
    {
      "cell_type": "code",
      "metadata": {
        "id": "MBjDBQ6iooRs"
      },
      "source": [
        "# Directory where the checkpoints will be saved\n",
        "checkpoint_dir = './training_checkpoints'\n",
        "# Name of the checkpoint files\n",
        "checkpoint_prefix = os.path.join(checkpoint_dir, \"ckpt_{epoch}\")\n",
        "\n",
        "checkpoint_callback=tf.keras.callbacks.ModelCheckpoint(\n",
        "    filepath=checkpoint_prefix,\n",
        "    save_weights_only=True)"
      ],
      "execution_count": 60,
      "outputs": []
    },
    {
      "cell_type": "markdown",
      "metadata": {
        "id": "rqctwrjRoyol"
      },
      "source": [
        "Execute the training\n",
        "\n",
        "To keep training time reasonable, use 10 epochs to train the model. "
      ]
    },
    {
      "cell_type": "code",
      "metadata": {
        "id": "j4Xhz4YXo_WF",
        "colab": {
          "base_uri": "https://localhost:8080/"
        },
        "outputId": "36250a47-f60e-49df-87a2-7844fb85d4e2"
      },
      "source": [
        "EPOCHS=10\n",
        "history = model.fit(dataset, epochs=EPOCHS, callbacks=[checkpoint_callback])"
      ],
      "execution_count": 61,
      "outputs": [
        {
          "output_type": "stream",
          "name": "stdout",
          "text": [
            "Epoch 1/10\n",
            "25/25 [==============================] - 5s 139ms/step - loss: 4.0386\n",
            "Epoch 2/10\n",
            "25/25 [==============================] - 4s 137ms/step - loss: 2.9432\n",
            "Epoch 3/10\n",
            "25/25 [==============================] - 4s 139ms/step - loss: 2.5840\n",
            "Epoch 4/10\n",
            "25/25 [==============================] - 4s 137ms/step - loss: 2.4033\n",
            "Epoch 5/10\n",
            "25/25 [==============================] - 4s 138ms/step - loss: 2.2834\n",
            "Epoch 6/10\n",
            "25/25 [==============================] - 4s 138ms/step - loss: 2.1868\n",
            "Epoch 7/10\n",
            "25/25 [==============================] - 4s 138ms/step - loss: 2.0900\n",
            "Epoch 8/10\n",
            "25/25 [==============================] - 4s 137ms/step - loss: 1.9995\n",
            "Epoch 9/10\n",
            "25/25 [==============================] - 4s 135ms/step - loss: 1.9098\n",
            "Epoch 10/10\n",
            "25/25 [==============================] - 4s 137ms/step - loss: 1.8271\n"
          ]
        }
      ]
    },
    {
      "cell_type": "markdown",
      "metadata": {
        "id": "JvTbxfT9qL02"
      },
      "source": [
        "Generate text\n",
        "\n",
        "Restore the latest checkpoint\n",
        "To keep this prediction step simple, use a batch size of 1.\n",
        "\n",
        "Because of the way the RNN state is passed from timestep to timestep, the model only accepts a fixed batch size once built.\n",
        "\n",
        "To run the model with a different batch_size, we need to rebuild the model and restore the weights from the checkpoint."
      ]
    },
    {
      "cell_type": "code",
      "metadata": {
        "id": "jgI-Ekp6qO9T",
        "colab": {
          "base_uri": "https://localhost:8080/"
        },
        "outputId": "337860e9-192e-4df8-c5c2-0a9f2e9b9d1f"
      },
      "source": [
        "tf.train.latest_checkpoint(checkpoint_dir)\n",
        "model = build_model(vocab_size, embedding_dim, rnn_units, batch_size=1)\n",
        "\n",
        "model.load_weights(tf.train.latest_checkpoint(checkpoint_dir))\n",
        "\n",
        "model.build(tf.TensorShape([1, None]))\n",
        "model.summary()"
      ],
      "execution_count": 64,
      "outputs": [
        {
          "output_type": "stream",
          "name": "stdout",
          "text": [
            "WARNING:tensorflow:Unresolved object in checkpoint: (root).optimizer\n",
            "WARNING:tensorflow:Unresolved object in checkpoint: (root).optimizer.iter\n",
            "WARNING:tensorflow:Unresolved object in checkpoint: (root).optimizer.beta_1\n",
            "WARNING:tensorflow:Unresolved object in checkpoint: (root).optimizer.beta_2\n",
            "WARNING:tensorflow:Unresolved object in checkpoint: (root).optimizer.decay\n",
            "WARNING:tensorflow:Unresolved object in checkpoint: (root).optimizer.learning_rate\n",
            "WARNING:tensorflow:Unresolved object in checkpoint: (root).optimizer's state 'm' for (root).layer_with_weights-0.embeddings\n",
            "WARNING:tensorflow:Unresolved object in checkpoint: (root).optimizer's state 'm' for (root).layer_with_weights-2.kernel\n",
            "WARNING:tensorflow:Unresolved object in checkpoint: (root).optimizer's state 'm' for (root).layer_with_weights-2.bias\n",
            "WARNING:tensorflow:Unresolved object in checkpoint: (root).optimizer's state 'm' for (root).layer_with_weights-1.cell.kernel\n",
            "WARNING:tensorflow:Unresolved object in checkpoint: (root).optimizer's state 'm' for (root).layer_with_weights-1.cell.recurrent_kernel\n",
            "WARNING:tensorflow:Unresolved object in checkpoint: (root).optimizer's state 'm' for (root).layer_with_weights-1.cell.bias\n",
            "WARNING:tensorflow:Unresolved object in checkpoint: (root).optimizer's state 'v' for (root).layer_with_weights-0.embeddings\n",
            "WARNING:tensorflow:Unresolved object in checkpoint: (root).optimizer's state 'v' for (root).layer_with_weights-2.kernel\n",
            "WARNING:tensorflow:Unresolved object in checkpoint: (root).optimizer's state 'v' for (root).layer_with_weights-2.bias\n",
            "WARNING:tensorflow:Unresolved object in checkpoint: (root).optimizer's state 'v' for (root).layer_with_weights-1.cell.kernel\n",
            "WARNING:tensorflow:Unresolved object in checkpoint: (root).optimizer's state 'v' for (root).layer_with_weights-1.cell.recurrent_kernel\n",
            "WARNING:tensorflow:Unresolved object in checkpoint: (root).optimizer's state 'v' for (root).layer_with_weights-1.cell.bias\n",
            "WARNING:tensorflow:A checkpoint was restored (e.g. tf.train.Checkpoint.restore or tf.keras.Model.load_weights) but not all checkpointed values were used. See above for specific issues. Use expect_partial() on the load status object, e.g. tf.train.Checkpoint.restore(...).expect_partial(), to silence these warnings, or use assert_consumed() to make the check explicit. See https://www.tensorflow.org/guide/checkpoint#loading_mechanics for details.\n",
            "Model: \"sequential_5\"\n",
            "_________________________________________________________________\n",
            "Layer (type)                 Output Shape              Param #   \n",
            "=================================================================\n",
            "embedding_5 (Embedding)      (1, None, 256)            21760     \n",
            "_________________________________________________________________\n",
            "gru_5 (GRU)                  (1, None, 1024)           3938304   \n",
            "_________________________________________________________________\n",
            "dense_5 (Dense)              (1, None, 85)             87125     \n",
            "=================================================================\n",
            "Total params: 4,047,189\n",
            "Trainable params: 4,047,189\n",
            "Non-trainable params: 0\n",
            "_________________________________________________________________\n"
          ]
        }
      ]
    },
    {
      "cell_type": "markdown",
      "metadata": {
        "id": "sydC-N4iqpfZ"
      },
      "source": [
        "The prediction loop\n",
        "\n",
        "The following code block generates the text:\n",
        "\n",
        "It Starts by choosing a start string, initializing the RNN state and setting the number of characters to generate.\n",
        "\n",
        "Get the prediction distribution of the next character using the start string and the RNN state.\n",
        "\n",
        "Then, use a categorical distribution to calculate the index of the predicted character. Use this predicted character as our next input to the model.\n",
        "\n",
        "The RNN state returned by the model is fed back into the model so that it now has more context, instead than only one character. After predicting the next character, the modified RNN states are again fed back into the model, which is how it learns as it gets more context from the previously predicted characters.\n",
        "\n",
        "Looking at the generated text, you'll see the model knows when to capitalize, make paragraphs and imitates a Shakespeare-like writing vocabulary. With the small number of training epochs, it has not yet learned to form coherent sentences."
      ]
    },
    {
      "cell_type": "code",
      "metadata": {
        "id": "Nwxb5OPEqtgS"
      },
      "source": [
        "def generate_text(model, start_string):\n",
        "  # Evaluation step (generating text using the learned model)\n",
        "\n",
        "  # Number of characters to generate\n",
        "  num_generate = 1000\n",
        "\n",
        "  # Converting our start string to numbers (vectorizing)\n",
        "  input_eval = [char2idx[s] for s in start_string]\n",
        "  input_eval = tf.expand_dims(input_eval, 0)\n",
        "\n",
        "  # Empty string to store our results\n",
        "  text_generated = []\n",
        "\n",
        "  # Low temperatures results in more predictable text.\n",
        "  # Higher temperatures results in more surprising text.\n",
        "  # Experiment to find the best setting.\n",
        "  temperature = 1.0\n",
        "\n",
        "  # Here batch size == 1\n",
        "  model.reset_states()\n",
        "  for i in range(num_generate):\n",
        "    predictions = model(input_eval)\n",
        "    # remove the batch dimension\n",
        "    predictions = tf.squeeze(predictions, 0)\n",
        "\n",
        "    # using a categorical distribution to predict the character returned by the model\n",
        "    predictions = predictions / temperature\n",
        "    predicted_id = tf.random.categorical(predictions, num_samples=1)[-1,0].numpy()\n",
        "\n",
        "    # We pass the predicted character as the next input to the model\n",
        "    # along with the previous hidden state\n",
        "    input_eval = tf.expand_dims([predicted_id], 0)\n",
        "\n",
        "    text_generated.append(idx2char[predicted_id])\n",
        "\n",
        "  return (start_string + ''.join(text_generated))"
      ],
      "execution_count": 65,
      "outputs": []
    },
    {
      "cell_type": "code",
      "metadata": {
        "id": "8rYFxSWjrEC2",
        "colab": {
          "base_uri": "https://localhost:8080/"
        },
        "outputId": "11062028-697e-4c03-8cad-2bcb1279bdf0"
      },
      "source": [
        "print(generate_text(model, start_string=u\"ROMEO: \"))"
      ],
      "execution_count": 66,
      "outputs": [
        {
          "output_type": "stream",
          "name": "stdout",
          "text": [
            "ROMEO: RKIZDuc'Lgant: and it blise Fould gan ture adon, this liget the same of liver she this not a sreaint the turk I door than to founs for off trie Minch Hartel wentwhtrgain the was sien), of coint Thet to see tly tome toot,\r\n",
            "  *' sowh to soy vers ins off to as turpres wivh a puston.\r\n",
            "\r\n",
            "'fot ather sle\r\n",
            "kight then her lofchit you mad son, you bat' panct as vouce sen it. I BEVE to she roulled\r\n",
            "Here of the CI-comeron.\r\n",
            "\r\n",
            "'Whon, why Hete jusk looking smiezt, 'The Fuche and onteer-thing as I myon's said; 'me fock on't the Met read.\r\n",
            "They eas the Conte sime an\r\n",
            "Co bote of arm it\r\n",
            "thing tome cvosain af thes go knows!'\r\n",
            "\r\n",
            "The a nim walast fow same, and said the tryouge I\r\n",
            "\r\n",
            "          Ix, I shisks alang\r\n",
            "said the MINg I'\r\n",
            "\r\n",
            "\r\n",
            "\r\n",
            "'SE Alice reake the acrauss\r\n",
            "of owe off, the Dore mack batne littibls uppicers,\r\n",
            "the ghien' said that Pithed \"Ho foreinl,\r\n",
            "\r\n",
            "'Sod Alice comninl as she hind could in her was I wenf inez-E.\r\n",
            "\r\n",
            "'What so sust cratsed in off the Marct Guronly wot on reey, I've Fourd if,' this\r\n",
            "ha\n"
          ]
        }
      ]
    },
    {
      "cell_type": "code",
      "metadata": {
        "colab": {
          "base_uri": "https://localhost:8080/"
        },
        "id": "dsi2tZsmsOMS",
        "outputId": "b916b9cf-2b36-4171-e40a-25e6edc329c2"
      },
      "source": [
        "print(generate_text(model, start_string=u\"ALICE: \"))"
      ],
      "execution_count": 67,
      "outputs": [
        {
          "output_type": "stream",
          "name": "stdout",
          "text": [
            "ALICE: TUHINSCHONURHay un'ther,  titnout shims Turther, 'Was lect you doow the saice\r\n",
            "\r\n",
            "Thitk tos the fros as she\r\n",
            "ous it agr cyou.\r\n",
            "\r\n",
            "Thet shes sheed spilu-in at the King the los look got is exlect Tertliblid to to betuling of thiss ferf llatin dige us net gome the\r\n",
            " it\r\n",
            "sition yow wable you, and I poonion quent\r\n",
            "byoje, wish moongs the Urow; and folanaid, frowt Alice and of\r\n",
            "to to see monatagel; 'y the krown the  and upicplenging call Ix Hares the Precouse ap cares, you astliems it mest Yom could\r\n",
            "but wind dakn you vect enterelly--- meeppliers.\r\n",
            "\r\n",
            "'Y@6;\r\n",
            "I'Ch you grined. 'I you achous pertonesters the--gros fact row  Gr, the cother ag the triem hol wasnings was merouid gath mareguthed the wind\r\n",
            "cenmeme-t\r\n",
            "LUE Meuce thath\r\n",
            "Has ser hers ofs they, was kinus, Ix sqole sard, but in's listlaus, sund ablug the Guxe foot wnyiss!' the Kine righouse foom see dess muse of HET to kidf redo wne bede gan of t all begot\r\n",
            "Alict:\r\n",
            "\r\n",
            "'Whe Hat hach her simeg on\r\n",
            "you--It I we try me tize (stiolayne said Alice.-\n"
          ]
        }
      ]
    },
    {
      "cell_type": "markdown",
      "metadata": {
        "id": "ZaDZ-wHwz0BK"
      },
      "source": [
        "## Part 2: Create a model with different hyperparameters"
      ]
    },
    {
      "cell_type": "markdown",
      "metadata": {
        "id": "LlKxsSqqNsIi"
      },
      "source": [
        "#### Load file data"
      ]
    },
    {
      "cell_type": "code",
      "metadata": {
        "id": "Qxmv2WH5z0KW"
      },
      "source": [
        "# load ascii text and covert to lowercase\n",
        "filename = \"/content/wonderland.txt\"\n",
        "raw_text = open(filename, 'r', encoding='utf-8').read()\n",
        "raw_text = raw_text.lower()"
      ],
      "execution_count": 68,
      "outputs": []
    },
    {
      "cell_type": "markdown",
      "metadata": {
        "id": "zH8VbTYHz0SD"
      },
      "source": [
        "#### Map unique chars to integers"
      ]
    },
    {
      "cell_type": "code",
      "metadata": {
        "id": "qxiQiuuWz0Ys"
      },
      "source": [
        "# create mapping of unique chars to integers, and a reverse mapping\n",
        "chars = sorted(list(set(raw_text)))\n",
        "char_to_int = dict((c, i) for i, c in enumerate(chars))\n",
        "int_to_char = dict((i, c) for i, c in enumerate(chars))"
      ],
      "execution_count": 69,
      "outputs": []
    },
    {
      "cell_type": "markdown",
      "metadata": {
        "id": "nQPmp4YOz0en"
      },
      "source": [
        "#### Find total characters and vocab used in the data"
      ]
    },
    {
      "cell_type": "code",
      "metadata": {
        "colab": {
          "base_uri": "https://localhost:8080/"
        },
        "id": "cDznlYtlz0kn",
        "outputId": "609d63e2-3815-4862-dd9a-598fc94f4941"
      },
      "source": [
        "# summarize the loaded data\n",
        "n_chars = len(raw_text)\n",
        "n_vocab = len(chars)\n",
        "print(\"Total Characters: \", n_chars)\n",
        "print(\"Total Vocab: \", n_vocab)"
      ],
      "execution_count": 70,
      "outputs": [
        {
          "output_type": "stream",
          "name": "stdout",
          "text": [
            "Total Characters:  163260\n",
            "Total Vocab:  58\n"
          ]
        }
      ]
    },
    {
      "cell_type": "markdown",
      "metadata": {
        "id": "kDUJ7bIaz0qD"
      },
      "source": [
        "#### Prepare the dataset of input to output pairs encoded as integers"
      ]
    },
    {
      "cell_type": "code",
      "metadata": {
        "colab": {
          "base_uri": "https://localhost:8080/"
        },
        "id": "WtXKSNJPz0wF",
        "outputId": "d70b32f9-4709-4d99-a617-d303777bf6c1"
      },
      "source": [
        "# prepare the dataset of input to output pairs encoded as integers\n",
        "seq_length = 100\n",
        "dataX = []\n",
        "dataY = []\n",
        "for i in range(0, n_chars - seq_length, 1):\n",
        "\tseq_in = raw_text[i:i + seq_length]\n",
        "\tseq_out = raw_text[i + seq_length]\n",
        "\tdataX.append([char_to_int[char] for char in seq_in])\n",
        "\tdataY.append(char_to_int[seq_out])\n",
        "n_patterns = len(dataX)\n",
        "print(\"Total Patterns: \", n_patterns)"
      ],
      "execution_count": 71,
      "outputs": [
        {
          "output_type": "stream",
          "name": "stdout",
          "text": [
            "Total Patterns:  163160\n"
          ]
        }
      ]
    },
    {
      "cell_type": "markdown",
      "metadata": {
        "id": "YDQcb-FFz013"
      },
      "source": [
        "#### Sample reshape, normalization, and one hot encoding"
      ]
    },
    {
      "cell_type": "code",
      "metadata": {
        "id": "O1RxIgRrz08U"
      },
      "source": [
        "# reshape X to be [samples, time steps, features]\n",
        "X = np.reshape(dataX, (n_patterns, seq_length, 1))\n",
        "# normalize\n",
        "X = X / float(n_vocab)\n",
        "# one hot encode the output variable\n",
        "y = to_categorical(dataY)"
      ],
      "execution_count": 73,
      "outputs": []
    },
    {
      "cell_type": "markdown",
      "metadata": {
        "id": "WtPlUjai0QPM"
      },
      "source": [
        "#### Build the model"
      ]
    },
    {
      "cell_type": "code",
      "metadata": {
        "colab": {
          "base_uri": "https://localhost:8080/"
        },
        "id": "aLJRRwaq0QWT",
        "outputId": "922c0f30-bafe-460d-ef40-83d379feb87e"
      },
      "source": [
        "# define the LSTM model\n",
        "model = Sequential()\n",
        "model.add(LSTM(256, input_shape=(X.shape[1], X.shape[2]), return_sequences=True))\n",
        "model.add(Dropout(0.2))\n",
        "model.add(LSTM(256))\n",
        "model.add(Dropout(0.2))\n",
        "model.add(Dense(y.shape[1], activation='softmax'))"
      ],
      "execution_count": 74,
      "outputs": [
        {
          "output_type": "stream",
          "name": "stdout",
          "text": [
            "WARNING:tensorflow:Unresolved object in checkpoint: (root).optimizer\n",
            "WARNING:tensorflow:Unresolved object in checkpoint: (root).optimizer.iter\n",
            "WARNING:tensorflow:Unresolved object in checkpoint: (root).optimizer.beta_1\n",
            "WARNING:tensorflow:Unresolved object in checkpoint: (root).optimizer.beta_2\n",
            "WARNING:tensorflow:Unresolved object in checkpoint: (root).optimizer.decay\n",
            "WARNING:tensorflow:Unresolved object in checkpoint: (root).optimizer.learning_rate\n",
            "WARNING:tensorflow:Unresolved object in checkpoint: (root).optimizer's state 'm' for (root).layer_with_weights-0.embeddings\n",
            "WARNING:tensorflow:Unresolved object in checkpoint: (root).optimizer's state 'm' for (root).layer_with_weights-2.kernel\n",
            "WARNING:tensorflow:Unresolved object in checkpoint: (root).optimizer's state 'm' for (root).layer_with_weights-2.bias\n",
            "WARNING:tensorflow:Unresolved object in checkpoint: (root).optimizer's state 'm' for (root).layer_with_weights-1.cell.kernel\n",
            "WARNING:tensorflow:Unresolved object in checkpoint: (root).optimizer's state 'm' for (root).layer_with_weights-1.cell.recurrent_kernel\n",
            "WARNING:tensorflow:Unresolved object in checkpoint: (root).optimizer's state 'm' for (root).layer_with_weights-1.cell.bias\n",
            "WARNING:tensorflow:Unresolved object in checkpoint: (root).optimizer's state 'v' for (root).layer_with_weights-0.embeddings\n",
            "WARNING:tensorflow:Unresolved object in checkpoint: (root).optimizer's state 'v' for (root).layer_with_weights-2.kernel\n",
            "WARNING:tensorflow:Unresolved object in checkpoint: (root).optimizer's state 'v' for (root).layer_with_weights-2.bias\n",
            "WARNING:tensorflow:Unresolved object in checkpoint: (root).optimizer's state 'v' for (root).layer_with_weights-1.cell.kernel\n",
            "WARNING:tensorflow:Unresolved object in checkpoint: (root).optimizer's state 'v' for (root).layer_with_weights-1.cell.recurrent_kernel\n",
            "WARNING:tensorflow:Unresolved object in checkpoint: (root).optimizer's state 'v' for (root).layer_with_weights-1.cell.bias\n",
            "WARNING:tensorflow:A checkpoint was restored (e.g. tf.train.Checkpoint.restore or tf.keras.Model.load_weights) but not all checkpointed values were used. See above for specific issues. Use expect_partial() on the load status object, e.g. tf.train.Checkpoint.restore(...).expect_partial(), to silence these warnings, or use assert_consumed() to make the check explicit. See https://www.tensorflow.org/guide/checkpoint#loading_mechanics for details.\n"
          ]
        }
      ]
    },
    {
      "cell_type": "markdown",
      "metadata": {
        "id": "6LFbMAzBOYWE"
      },
      "source": [
        "#### ModelCheckpoint created"
      ]
    },
    {
      "cell_type": "code",
      "metadata": {
        "id": "QrwGFVS90sgb"
      },
      "source": [
        "# define the checkpoint\n",
        "filepath=\"weights-improvement-{epoch:02d}-{loss:.4f}.hdf5\"\n",
        "checkpoint = ModelCheckpoint(filepath, monitor='loss', verbose=1, save_best_only=True, mode='min')\n",
        "callbacks_list = [checkpoint]"
      ],
      "execution_count": 75,
      "outputs": []
    },
    {
      "cell_type": "markdown",
      "metadata": {
        "id": "mB-DoB8xOcjC"
      },
      "source": [
        "#### Compile the model"
      ]
    },
    {
      "cell_type": "code",
      "metadata": {
        "id": "F93cO_xT1PmF"
      },
      "source": [
        "model.compile(loss='categorical_crossentropy', optimizer='adam', metrics='accuracy')"
      ],
      "execution_count": 76,
      "outputs": []
    },
    {
      "cell_type": "markdown",
      "metadata": {
        "id": "eMSu0zL0OgBO"
      },
      "source": [
        "#### Fit the model"
      ]
    },
    {
      "cell_type": "code",
      "metadata": {
        "colab": {
          "base_uri": "https://localhost:8080/"
        },
        "id": "aQ1BcUAv0sq4",
        "outputId": "5e49ac22-dc50-4f0d-fcf9-b953d253acbf"
      },
      "source": [
        "model.fit(X, y, epochs=20, batch_size=128, callbacks=callbacks_list)"
      ],
      "execution_count": 77,
      "outputs": [
        {
          "output_type": "stream",
          "name": "stdout",
          "text": [
            "Epoch 1/20\n",
            "1275/1275 [==============================] - 105s 80ms/step - loss: 2.8836 - accuracy: 0.2066\n",
            "\n",
            "Epoch 00001: loss improved from inf to 2.88359, saving model to weights-improvement-01-2.8836.hdf5\n",
            "Epoch 2/20\n",
            "1275/1275 [==============================] - 102s 80ms/step - loss: 2.6185 - accuracy: 0.2616\n",
            "\n",
            "Epoch 00002: loss improved from 2.88359 to 2.61854, saving model to weights-improvement-02-2.6185.hdf5\n",
            "Epoch 3/20\n",
            "1275/1275 [==============================] - 102s 80ms/step - loss: 2.4603 - accuracy: 0.3001\n",
            "\n",
            "Epoch 00003: loss improved from 2.61854 to 2.46033, saving model to weights-improvement-03-2.4603.hdf5\n",
            "Epoch 4/20\n",
            "1275/1275 [==============================] - 102s 80ms/step - loss: 2.3135 - accuracy: 0.3389\n",
            "\n",
            "Epoch 00004: loss improved from 2.46033 to 2.31349, saving model to weights-improvement-04-2.3135.hdf5\n",
            "Epoch 5/20\n",
            "1275/1275 [==============================] - 102s 80ms/step - loss: 2.1971 - accuracy: 0.3706\n",
            "\n",
            "Epoch 00005: loss improved from 2.31349 to 2.19709, saving model to weights-improvement-05-2.1971.hdf5\n",
            "Epoch 6/20\n",
            "1275/1275 [==============================] - 102s 80ms/step - loss: 2.1084 - accuracy: 0.3933\n",
            "\n",
            "Epoch 00006: loss improved from 2.19709 to 2.10840, saving model to weights-improvement-06-2.1084.hdf5\n",
            "Epoch 7/20\n",
            "1275/1275 [==============================] - 102s 80ms/step - loss: 2.0394 - accuracy: 0.4121\n",
            "\n",
            "Epoch 00007: loss improved from 2.10840 to 2.03942, saving model to weights-improvement-07-2.0394.hdf5\n",
            "Epoch 8/20\n",
            "1275/1275 [==============================] - 102s 80ms/step - loss: 1.9741 - accuracy: 0.4305\n",
            "\n",
            "Epoch 00008: loss improved from 2.03942 to 1.97414, saving model to weights-improvement-08-1.9741.hdf5\n",
            "Epoch 9/20\n",
            "1275/1275 [==============================] - 102s 80ms/step - loss: 1.9278 - accuracy: 0.4426\n",
            "\n",
            "Epoch 00009: loss improved from 1.97414 to 1.92781, saving model to weights-improvement-09-1.9278.hdf5\n",
            "Epoch 10/20\n",
            "1275/1275 [==============================] - 102s 80ms/step - loss: 1.8774 - accuracy: 0.4549\n",
            "\n",
            "Epoch 00010: loss improved from 1.92781 to 1.87738, saving model to weights-improvement-10-1.8774.hdf5\n",
            "Epoch 11/20\n",
            "1275/1275 [==============================] - 102s 80ms/step - loss: 1.8368 - accuracy: 0.4667\n",
            "\n",
            "Epoch 00011: loss improved from 1.87738 to 1.83676, saving model to weights-improvement-11-1.8368.hdf5\n",
            "Epoch 12/20\n",
            "1275/1275 [==============================] - 102s 80ms/step - loss: 1.8028 - accuracy: 0.4746\n",
            "\n",
            "Epoch 00012: loss improved from 1.83676 to 1.80275, saving model to weights-improvement-12-1.8028.hdf5\n",
            "Epoch 13/20\n",
            "1275/1275 [==============================] - 102s 80ms/step - loss: 1.7674 - accuracy: 0.4841\n",
            "\n",
            "Epoch 00013: loss improved from 1.80275 to 1.76739, saving model to weights-improvement-13-1.7674.hdf5\n",
            "Epoch 14/20\n",
            "1275/1275 [==============================] - 102s 80ms/step - loss: 1.7419 - accuracy: 0.4911\n",
            "\n",
            "Epoch 00014: loss improved from 1.76739 to 1.74195, saving model to weights-improvement-14-1.7419.hdf5\n",
            "Epoch 15/20\n",
            "1275/1275 [==============================] - 102s 80ms/step - loss: 1.7124 - accuracy: 0.4986\n",
            "\n",
            "Epoch 00015: loss improved from 1.74195 to 1.71239, saving model to weights-improvement-15-1.7124.hdf5\n",
            "Epoch 16/20\n",
            "1275/1275 [==============================] - 101s 80ms/step - loss: 1.6868 - accuracy: 0.5045\n",
            "\n",
            "Epoch 00016: loss improved from 1.71239 to 1.68675, saving model to weights-improvement-16-1.6868.hdf5\n",
            "Epoch 17/20\n",
            "1275/1275 [==============================] - 102s 80ms/step - loss: 1.6644 - accuracy: 0.5102\n",
            "\n",
            "Epoch 00017: loss improved from 1.68675 to 1.66438, saving model to weights-improvement-17-1.6644.hdf5\n",
            "Epoch 18/20\n",
            "1275/1275 [==============================] - 102s 80ms/step - loss: 1.6392 - accuracy: 0.5174\n",
            "\n",
            "Epoch 00018: loss improved from 1.66438 to 1.63922, saving model to weights-improvement-18-1.6392.hdf5\n",
            "Epoch 19/20\n",
            "1275/1275 [==============================] - 101s 80ms/step - loss: 1.6193 - accuracy: 0.5241\n",
            "\n",
            "Epoch 00019: loss improved from 1.63922 to 1.61929, saving model to weights-improvement-19-1.6193.hdf5\n",
            "Epoch 20/20\n",
            "1275/1275 [==============================] - 102s 80ms/step - loss: 1.6002 - accuracy: 0.5267\n",
            "\n",
            "Epoch 00020: loss improved from 1.61929 to 1.60024, saving model to weights-improvement-20-1.6002.hdf5\n"
          ]
        },
        {
          "output_type": "execute_result",
          "data": {
            "text/plain": [
              "<keras.callbacks.History at 0x7faf3fe6ee10>"
            ]
          },
          "metadata": {},
          "execution_count": 77
        }
      ]
    },
    {
      "cell_type": "markdown",
      "metadata": {
        "id": "cIS8Nt7k0Qcs"
      },
      "source": [
        "#### Load model using the best checkpoint with least loss"
      ]
    },
    {
      "cell_type": "code",
      "metadata": {
        "id": "hwUz0pE30Qin"
      },
      "source": [
        "# load the network weights\n",
        "filename = \"/content/weights-improvement-20-1.6002.hdf5\"\n",
        "model.load_weights(filename)\n",
        "model.compile(loss='categorical_crossentropy', optimizer='adam')"
      ],
      "execution_count": 78,
      "outputs": []
    },
    {
      "cell_type": "markdown",
      "metadata": {
        "id": "oGne8ufl0Qos"
      },
      "source": [
        "#### picking the seed value"
      ]
    },
    {
      "cell_type": "code",
      "metadata": {
        "colab": {
          "base_uri": "https://localhost:8080/"
        },
        "id": "RRfQmgPz0QuA",
        "outputId": "973546d8-a0fe-4181-cec6-33428a232c0e"
      },
      "source": [
        "# pick a random seed\n",
        "start = np.random.randint(0, len(dataX)-1)\n",
        "pattern = dataX[start]\n",
        "print(\"Seed:\")\n",
        "print(\"\\\"\", ''.join([int_to_char[value] for value in pattern]), \"\\\"\")"
      ],
      "execution_count": 79,
      "outputs": [
        {
          "output_type": "stream",
          "name": "stdout",
          "text": [
            "Seed:\n",
            "\"  creatures wouldn't be so easily\n",
            "offended!'\n",
            "\n",
            "'you'll get used to it in time,' said the caterpillar;  \"\n"
          ]
        }
      ]
    },
    {
      "cell_type": "markdown",
      "metadata": {
        "id": "VSO701-G0Qzy"
      },
      "source": [
        "Generate text using model "
      ]
    },
    {
      "cell_type": "code",
      "metadata": {
        "colab": {
          "base_uri": "https://localhost:8080/"
        },
        "id": "NdpERwKR0Q5t",
        "outputId": "f92fd59d-65bf-47b0-c4b2-1206703b44d7"
      },
      "source": [
        "import sys\n",
        "\n",
        "# generate characters\n",
        "for i in range(1000):\n",
        "\tx = np.reshape(pattern, (1, len(pattern), 1))\n",
        "\tx = x / float(n_vocab)\n",
        "\tprediction = model.predict(x, verbose=0)\n",
        "\tindex = np.argmax(prediction)\n",
        "\tresult = int_to_char[index]\n",
        "\tseq_in = [int_to_char[value] for value in pattern]\n",
        "\tsys.stdout.write(result)\n",
        "\tpattern.append(index)\n",
        "\tpattern = pattern[1:len(pattern)]"
      ],
      "execution_count": 80,
      "outputs": [
        {
          "output_type": "stream",
          "name": "stdout",
          "text": [
            "\n",
            "'would not a courte,' she mock turtle raid to herself, 'i don't know the doomouse was the doom and then so her to the sabbit! would not a cortersation, and the pueen said to the coor and the sabbit with the way of the coort of the court, and the cook said to herself  the doomouse was not a long ar once, and the pueen said to the coor and the sabbit with the way of the coort of the court, and the cook said to herself  the doomouse was not a long ar once, and the pueen said to the coor and the sabbit with the way of the coort of the court, and the cook said to herself  the doomouse was not a long ar once, and the pueen said to the coor and the sabbit with the way of the coort of the court, and the cook said to herself  the doomouse was not a long ar once, and the pueen said to the coor and the sabbit with the way of the coort of the court, and the cook said to herself  the doomouse was not a long ar once, and the pueen said to the coor and the sabbit with the way of the coort of the cou"
          ]
        }
      ]
    }
  ]
}