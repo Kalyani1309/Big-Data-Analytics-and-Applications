{
 "cells": [
  {
   "cell_type": "markdown",
   "metadata": {
    "id": "gkb4F-3B_YvE"
   },
   "source": [
    "## Big Data ICP10\n",
    "\n",
    "#### Deep Q Learning - \n",
    "CartPole is one of the simplest environments in the OpenAI gym (a game simulator). The idea of CartPole is that there is a pole standing up on top of a cart. The goal is to balance this pole by moving the cart from side to side to keep the pole balanced upright.\n",
    "\n",
    "#### The objective of the analysis-\n",
    "\n",
    "* Design a Deep Q learning Network (DQN), using Keras & OpenAl Gym, for cartpole game and visualize your results.\n",
    "* Visualization of DQN Cartpole game.\n",
    "\n",
    "#### About Cartpole Game\n",
    "A pole is attached by an un-actuated joint to a cart, which moves along a frictionless track. The system is controlled by applying a force of +1 or -1 to the cart. The pendulum starts upright, and the goal is to prevent it from falling over. A reward of +1 is provided for every timestep that the pole remains upright. The episode ends when the pole is more than 15 degrees from vertical, or the cart moves more than 2.4 units from the center.\n",
    "\n",
    "More information about cartpole\n",
    "https://gym.openai.com/envs/CartPole-v1/"
   ]
  },
  {
   "cell_type": "markdown",
   "metadata": {},
   "source": [
    "#### Do All the necessary installations"
   ]
  },
  {
   "cell_type": "code",
   "execution_count": 71,
   "metadata": {
    "colab": {
     "base_uri": "https://localhost:8080/"
    },
    "id": "bZyzKaEMEKci",
    "outputId": "d76963e8-31e8-4314-d19c-175e3b62f9c6"
   },
   "outputs": [
    {
     "name": "stdout",
     "output_type": "stream",
     "text": [
      "Requirement already satisfied: pyvirtualdisplay in c:\\users\\prati\\anaconda3\\lib\\site-packages (2.2)\n",
      "Requirement already satisfied: EasyProcess in c:\\users\\prati\\anaconda3\\lib\\site-packages (from pyvirtualdisplay) (0.3)\n",
      "Requirement already satisfied: piglet in c:\\users\\prati\\anaconda3\\lib\\site-packages (1.0.0)\n",
      "Requirement already satisfied: piglet-templates in c:\\users\\prati\\anaconda3\\lib\\site-packages (from piglet) (1.2.0)\n",
      "Requirement already satisfied: astunparse in c:\\users\\prati\\anaconda3\\lib\\site-packages (from piglet-templates->piglet) (1.6.3)\n",
      "Requirement already satisfied: pyparsing in c:\\users\\prati\\anaconda3\\lib\\site-packages (from piglet-templates->piglet) (2.4.7)\n",
      "Requirement already satisfied: markupsafe in c:\\users\\prati\\anaconda3\\lib\\site-packages (from piglet-templates->piglet) (1.1.1)\n",
      "Requirement already satisfied: attrs in c:\\users\\prati\\anaconda3\\lib\\site-packages (from piglet-templates->piglet) (20.3.0)\n",
      "Requirement already satisfied: six<2.0,>=1.6.1 in c:\\users\\prati\\anaconda3\\lib\\site-packages (from astunparse->piglet-templates->piglet) (1.15.0)\n",
      "Requirement already satisfied: wheel<1.0,>=0.23.0 in c:\\users\\prati\\anaconda3\\lib\\site-packages (from astunparse->piglet-templates->piglet) (0.36.2)\n",
      "Requirement already satisfied: gym in c:\\users\\prati\\anaconda3\\lib\\site-packages (0.21.0)\n",
      "Requirement already satisfied: numpy>=1.18.0 in c:\\users\\prati\\anaconda3\\lib\\site-packages (from gym) (1.20.1)\n",
      "Requirement already satisfied: cloudpickle>=1.2.0 in c:\\users\\prati\\anaconda3\\lib\\site-packages (from gym) (1.6.0)\n"
     ]
    }
   ],
   "source": [
    "!pip install pyvirtualdisplay\n",
    "!pip install piglet\n",
    "!pip install gym"
   ]
  },
  {
   "cell_type": "markdown",
   "metadata": {},
   "source": [
    "### Import libraries"
   ]
  },
  {
   "cell_type": "code",
   "execution_count": 90,
   "metadata": {
    "id": "0y-Hr7cH_Y2f"
   },
   "outputs": [],
   "source": [
    "from pyvirtualdisplay import Display\n",
    "\n",
    "from IPython import display\n",
    "import gym \n",
    "import keras\n",
    "import numpy as np\n",
    "import random\n",
    "import matplotlib.pyplot as plt\n",
    "from random import shuffle\n",
    "\n",
    "from gym import wrappers\n",
    "from keras.models import Sequential, load_model\n",
    "from keras.layers import Dense\n",
    "from tensorflow.keras.optimizers import Adam\n",
    "\n",
    "from collections import deque"
   ]
  },
  {
   "cell_type": "markdown",
   "metadata": {},
   "source": [
    "The Gym library by OpenAI provides virtual environment that can be used to compare performances of different reinforcement learning techniques.\n",
    "\n",
    "I will be using the CartPole Environment form the OpenAI Gym Library.\n",
    "\n",
    "Let's start by creating the environment and getting some useful information about the environment."
   ]
  },
  {
   "cell_type": "code",
   "execution_count": 105,
   "metadata": {},
   "outputs": [],
   "source": [
    "env = gym.make('CartPole-v1')"
   ]
  },
  {
   "cell_type": "code",
   "execution_count": 106,
   "metadata": {
    "colab": {
     "base_uri": "https://localhost:8080/",
     "height": 376
    },
    "id": "Ss_wG5C7_ZD8",
    "outputId": "3b834fc5-eb67-4ed5-94ab-77d91ee901e1"
   },
   "outputs": [],
   "source": [
    "env.reset()\n",
    "for _ in range(1000):\n",
    "  action = env.action_space.sample()\n",
    "  observation, reward, done, info = env.step(action)\n",
    "  env.render()\n",
    "env.close()"
   ]
  },
  {
   "cell_type": "code",
   "execution_count": 93,
   "metadata": {
    "id": "GN4gaRrl_ZQr"
   },
   "outputs": [
    {
     "name": "stdout",
     "output_type": "stream",
     "text": [
      "Action Space Discrete(2)\n",
      "State Space Box([-4.8000002e+00 -3.4028235e+38 -4.1887903e-01 -3.4028235e+38], [4.8000002e+00 3.4028235e+38 4.1887903e-01 3.4028235e+38], (4,), float32)\n",
      "High Observation Space [4.8000002e+00 3.4028235e+38 4.1887903e-01 3.4028235e+38]\n",
      "Low Observation Space [-4.8000002e+00 -3.4028235e+38 -4.1887903e-01 -3.4028235e+38]\n"
     ]
    }
   ],
   "source": [
    "# Environment Information\n",
    "env.reset()\n",
    "print(\"Action Space {}\".format(env.action_space))\n",
    "print(\"State Space {}\".format(env.observation_space))\n",
    "print(\"High Observation Space {}\".format(env.observation_space.high))\n",
    "print(\"Low Observation Space {}\".format(env.observation_space.low))"
   ]
  },
  {
   "cell_type": "markdown",
   "metadata": {},
   "source": [
    "There are 2 possible actions that can be performed at each time step: move the cart to the left (0) or to the right (1). There are 4 states that can be observed at each time step: \n",
    "* the position of the cart\n",
    "* its velocity \n",
    "* the angle of the pole  \n",
    "* the velocity of the pole at the tip\n",
    "\n",
    "next_state, reward, done, info = env.step(action)\n",
    "\n",
    "As we discussed above, action can be either 0 or 1. If we pass those numbers, env, which represents the game environment, will emit the results. done is a boolean value telling whether the game ended or not. The old state information paired with action and next_state and reward is the information we need for training the agent."
   ]
  },
  {
   "cell_type": "markdown",
   "metadata": {
    "id": "BysSrqsE_ZW9"
   },
   "source": [
    "## Hyper Parameters"
   ]
  },
  {
   "cell_type": "markdown",
   "metadata": {},
   "source": [
    "There are some parameters that have to be passed to a reinforcement learning agent. You will see these over and over again.\n",
    "\n",
    "* episodes - a number of games we want the agent to play.\n",
    "* gamma - aka decay or discount rate, to calculate the future discounted reward.\n",
    "* epsilon - aka exploration rate, this is the rate in which an agent randomly decides its action rather than prediction.\n",
    "* epsilon_decay - we want to decrease the number of explorations as it gets good at playing games.\n",
    "* epsilon_min - we want the agent to explore at least this amount.\n",
    "* learning_rate - Determines how much neural net learns in each iteration."
   ]
  },
  {
   "cell_type": "code",
   "execution_count": 97,
   "metadata": {
    "id": "SHpJd_aH_Zcu"
   },
   "outputs": [],
   "source": [
    "ACTIONS_DIM = 2 ## Output Dimension=No. of possible actions (2)\n",
    "OBSERVATIONS_DIM = 4 ## Input Dimension= No of Elements in State Tuple (4)\n",
    "MAX_ITERATIONS = 200 ## Max Time Steps Per Game (Limited to 200 by Environment)\n",
    "LEARNING_RATE = 0.01\n",
    "NUM_EPOCHS = 50\n",
    "\n",
    "GAMMA = 0.99 ## Future Reward Discount Factor\n",
    "REPLAY_MEMORY_SIZE = 10000 ## Replay Memory Size\n",
    "NUM_EPISODES = 100 ## Games Played in Training Phase\n",
    "MINIBATCH_SIZE = 32 ## Number of Samples chosen randomly from Replay Memory\n",
    "\n",
    "RANDOM_ACTION_DECAY = 0.99 ## The factor by which Random Action Probability Decreases\n",
    "INITIAL_RANDOM_ACTION = 1 ## Initial Random Action Factor\n",
    "Samples=[] ## A list to store Individual Game Scores\n",
    "Means=[] ##A list to store Mean Score over Last 20 Games"
   ]
  },
  {
   "cell_type": "markdown",
   "metadata": {},
   "source": [
    "## Class and Functions\n",
    "\n",
    "Here I have defined a class and few functions.\n",
    "\n",
    "ReplayBuffer - A class is defined for replay memory which has a data structure of dqueue type with maximum length of REPLAY_MEMORY. SIZE (initialised above).\n",
    "\n",
    "get_q - A function to Predict Q-Values from the Model.\n",
    "train - A function to Train the Model\n",
    "\n",
    "predict - A function to predict Q values form model\n",
    "get_model - A function to build the Deep Q-Network\n",
    "update_action - A function to update the model\n",
    "\n",
    "Model Details - We will have one input layer that receives 4 information and 3 hidden layers. But we are going to have 2 nodes in the output layer since there are two buttons (0 and 1) for the game. Memorize One of the challenges for DQN is that neural network used in the algorithm tends to forget the previous experiences as it overwrites them with new experiences. So we need a list of previous experiences and observations to re-train the model with the previous experiences.\n",
    "\n",
    "Replay A method that trains the neural net with experiences in the memory is called replay. First, we sample some experiences from the memory and call them minibatch.\n",
    "\n",
    "To make the agent perform well in long-term, we need to take into account not only the immediate rewards but also the future rewards we are going to get. In order to do this, we are going to have a ‘discount rate’ or ‘gamma’. This way the agent will learn to maximize the discounted future reward based on the given state."
   ]
  },
  {
   "cell_type": "code",
   "execution_count": 98,
   "metadata": {
    "id": "u5YsMM6FHo83"
   },
   "outputs": [],
   "source": [
    "class ReplayBuffer():\n",
    "  def __init__(self, max_size):\n",
    "    self.max_size = max_size\n",
    "    self.transitions = deque()\n",
    "\n",
    "  def add(self, observation, action, reward, observation2):\n",
    "    if len(self.transitions) > self.max_size:\n",
    "      if np.random.random() < 0.5:\n",
    "        shuffle(self.transitions)\n",
    "      self.transitions.popleft()\n",
    "    self.transitions.append((observation, action, reward, observation2))\n",
    "\n",
    "  def sample(self, count):\n",
    "    return random.sample(self.transitions, count)\n",
    "\n",
    "  def size(self):\n",
    "    return len(self.transitions)\n",
    "\n",
    "def get_q(model, observation):\n",
    "  np_obs = np.reshape(observation, [-1, OBSERVATIONS_DIM])\n",
    "  return model.predict(np_obs)\n",
    "\n",
    "def train(model, observations, targets):\n",
    "  np_obs = np.reshape(observations, [-1, OBSERVATIONS_DIM])\n",
    "  np_targets = np.reshape(targets, [-1, ACTIONS_DIM])\n",
    "\n",
    "  model.fit(np_obs, np_targets, epochs =1, verbose = 0)\n",
    "\n",
    "def predict(model, observation):\n",
    "  np_obs = np.reshape(observation, [-1, OBSERVATIONS_DIM])\n",
    "  return model.predict(np_obs)\n",
    "\n",
    "def get_model():\n",
    "  model = Sequential()\n",
    "  model.add(Dense(24, input_shape = (OBSERVATIONS_DIM, ), activation= 'relu'))\n",
    "  model.add(Dense(24, activation= 'relu'))\n",
    "  model.add(Dense(2, activation= 'linear'))\n",
    "\n",
    "  model.compile(optimizer=Adam(learning_rate=LEARNING_RATE), loss='mse', metrics=[], )\n",
    "\n",
    "  return model\n",
    "\n",
    "def update_action(action_model, target_model, sample_transitions): ## Update the model\n",
    "    random.shuffle(sample_transitions) ## Randomly Shuffle the Minibatch Samples\n",
    "    batch_observations = [] ## Initialize State(Observation) List\n",
    "    batch_targets = [] ## Initialize Target(Output Label) List\n",
    "\n",
    "    for sample_transition in sample_transitions: ## For each sample in Minibatch\n",
    "        ## Separate*each part of observation\n",
    "        old_observation, action, reward, observation = sample_transition\n",
    "\n",
    "        ####\n",
    "        ## Reshape targets to output dimension(=2)\n",
    "        ####\n",
    "        targets = np.reshape(get_q(action_model, old_observation), ACTIONS_DIM)\n",
    "        targets[action] = reward ## Set Target Value\n",
    "\n",
    "        if observation is not None: ## If observation is not Empty    \n",
    "            ## Query the Model for possible actions and corresponding Q-Values\n",
    "            predictions = predict(target_model, observation)\n",
    "            new_action = np.argmax(predictions) ## Select the Best Action (Max Q-Value)\n",
    "            ## Update the Target with Future Reward Discount Factor\n",
    "            targets[action] += GAMMA * predictions[0, new_action]\n",
    "\n",
    "        batch_observations.append(old_observation) ## Add Old State to observations batch\n",
    "        batch_targets.append(targets) ## Add target to targets batch\n",
    "\n",
    "    ## Update the model using Observations and their corresponding Targets\n",
    "    train(action_model, batch_observations, batch_targets)"
   ]
  },
  {
   "cell_type": "markdown",
   "metadata": {},
   "source": [
    "## Main Program Logic\n",
    "\n",
    "In this learning, we have 200 game limits as NUM_EPISODES to train the model and for each game we have 500 time steps as MAX_ITERATIONS.\n",
    "\n",
    "This program holds score of last 50 games. If average of game score for last 50 games is more than 195 and iteration is more than 195, It means learning is\n",
    "done and model is converged.\n",
    "\n",
    "Starting of each game, We check whether model is converged or not and then proceed. If not converged, following steps are taken.\n",
    "\n",
    "* Reduce the Random Action Probability by Decay Factor\n",
    "* Reset the Environment after Each Game\n",
    "\n",
    "Now we will iterate over time steps for each game.\n",
    "\n",
    "* Generate Random Action Probability\n",
    "* Store Current State\n",
    "* Generate random action and if it is less than Random Action Probability, we take it as action else we query the model and Get Q-Values for possible actions and select the best action using Q-Values received and observe next state.\n",
    "* Check if game is over\n",
    "    * Add Final Score of the Game to the Score List.\n",
    "    * If Number of Games>50, Calculate Mean Over 50 Games to Check Convergence\n",
    "    * Print End-Of-Game Information.\n",
    "    * If, game is over at last time step, Give +5 Reward for Completing the Game Successfully else Give -5 Reward for Taking Wrong Action Leading to Failure.\n",
    "\n",
    "At the end of each time step, Observation is added in Replay Memory.\n",
    "\n",
    "Finally Update the Deep Q-Network Model."
   ]
  },
  {
   "cell_type": "code",
   "execution_count": 99,
   "metadata": {
    "id": "uCJA6NAeHpOi",
    "scrolled": true
   },
   "outputs": [
    {
     "name": "stdout",
     "output_type": "stream",
     "text": [
      "Episode:0, iterations:13, RAP:0.99\n",
      "Episode:1, iterations:32, RAP:0.9801\n",
      "Episode:2, iterations:24, RAP:0.9702989999999999\n",
      "Episode:3, iterations:12, RAP:0.96059601\n",
      "Episode:4, iterations:24, RAP:0.9509900498999999\n",
      "Episode:5, iterations:33, RAP:0.9414801494009999\n",
      "Episode:6, iterations:13, RAP:0.9320653479069899\n",
      "Episode:7, iterations:15, RAP:0.92274469442792\n",
      "Episode:8, iterations:19, RAP:0.9135172474836407\n",
      "Episode:9, iterations:12, RAP:0.9043820750088043\n",
      "Episode:10, iterations:25, RAP:0.8953382542587163\n",
      "Episode:11, iterations:11, RAP:0.8863848717161291\n",
      "Episode:12, iterations:12, RAP:0.8775210229989678\n",
      "Episode:13, iterations:13, RAP:0.8687458127689781\n",
      "Episode:14, iterations:33, RAP:0.8600583546412883\n",
      "Episode:15, iterations:11, RAP:0.8514577710948754\n",
      "Episode:16, iterations:14, RAP:0.8429431933839266\n",
      "Episode:17, iterations:29, RAP:0.8345137614500874\n",
      "Episode:18, iterations:14, RAP:0.8261686238355865\n",
      "Episode:19, iterations:44, RAP:0.8179069375972307\n",
      "Episode:20, iterations:25, RAP:0.8097278682212583\n",
      "Episode:21, iterations:18, RAP:0.8016305895390458\n",
      "Episode:22, iterations:20, RAP:0.7936142836436553\n",
      "Episode:23, iterations:21, RAP:0.7856781408072188\n",
      "Episode:24, iterations:14, RAP:0.7778213593991465\n",
      "Episode:25, iterations:22, RAP:0.7700431458051551\n",
      "Episode:26, iterations:19, RAP:0.7623427143471035\n",
      "Episode:27, iterations:23, RAP:0.7547192872036325\n",
      "Episode:28, iterations:17, RAP:0.7471720943315961\n",
      "Episode:29, iterations:33, RAP:0.7397003733882802\n",
      "Episode:30, iterations:19, RAP:0.7323033696543974\n",
      "Episode:31, iterations:9, RAP:0.7249803359578534\n",
      "Episode:32, iterations:19, RAP:0.7177305325982748\n",
      "Episode:33, iterations:28, RAP:0.7105532272722921\n",
      "Episode:34, iterations:26, RAP:0.7034476949995692\n",
      "Episode:35, iterations:40, RAP:0.6964132180495735\n",
      "Episode:36, iterations:25, RAP:0.6894490858690777\n",
      "Episode:37, iterations:18, RAP:0.682554595010387\n",
      "Episode:38, iterations:24, RAP:0.6757290490602831\n",
      "Episode:39, iterations:21, RAP:0.6689717585696803\n",
      "Episode:40, iterations:15, RAP:0.6622820409839835\n",
      "Episode:41, iterations:38, RAP:0.6556592205741436\n",
      "Episode:42, iterations:21, RAP:0.6491026283684022\n",
      "Episode:43, iterations:33, RAP:0.6426116020847181\n",
      "Episode:44, iterations:18, RAP:0.6361854860638709\n",
      "Episode:45, iterations:55, RAP:0.6298236312032323\n",
      "Episode:46, iterations:37, RAP:0.6235253948912\n",
      "Episode:47, iterations:39, RAP:0.617290140942288\n",
      "Episode:48, iterations:25, RAP:0.6111172395328651\n",
      "Episode:49, iterations:28, RAP:0.6050060671375365\n",
      "Episode:50, iterations:89, RAP:0.5989560064661611\n",
      "Episode:51, iterations:13, RAP:0.5929664464014994\n",
      "Episode:52, iterations:42, RAP:0.5870367819374844\n",
      "Episode:53, iterations:21, RAP:0.5811664141181095\n",
      "Episode:54, iterations:37, RAP:0.5753547499769285\n",
      "Episode:55, iterations:26, RAP:0.5696012024771592\n",
      "Episode:56, iterations:44, RAP:0.5639051904523876\n",
      "Episode:57, iterations:44, RAP:0.5582661385478638\n",
      "Episode:58, iterations:71, RAP:0.5526834771623851\n",
      "Episode:59, iterations:28, RAP:0.5471566423907612\n",
      "Episode:60, iterations:20, RAP:0.5416850759668536\n",
      "Episode:61, iterations:19, RAP:0.536268225207185\n",
      "Episode:62, iterations:31, RAP:0.5309055429551132\n",
      "Episode:63, iterations:20, RAP:0.525596487525562\n",
      "Episode:64, iterations:9, RAP:0.5203405226503064\n",
      "Episode:65, iterations:29, RAP:0.5151371174238033\n",
      "Episode:66, iterations:10, RAP:0.5099857462495653\n",
      "Episode:67, iterations:8, RAP:0.5048858887870696\n",
      "Episode:68, iterations:77, RAP:0.4998370298991989\n",
      "Episode:69, iterations:20, RAP:0.49483865960020695\n",
      "Episode:70, iterations:9, RAP:0.4898902730042049\n",
      "Episode:71, iterations:14, RAP:0.48499137027416284\n",
      "Episode:72, iterations:72, RAP:0.4801414565714212\n",
      "Episode:73, iterations:20, RAP:0.475340042005707\n",
      "Episode:74, iterations:32, RAP:0.47058664158564995\n",
      "Episode:75, iterations:102, RAP:0.4658807751697934\n",
      "Episode:76, iterations:66, RAP:0.4612219674180955\n",
      "Episode:77, iterations:80, RAP:0.45660974774391455\n",
      "Episode:78, iterations:16, RAP:0.4520436502664754\n",
      "Episode:79, iterations:50, RAP:0.44752321376381066\n",
      "Episode:80, iterations:66, RAP:0.44304798162617254\n",
      "Episode:81, iterations:11, RAP:0.4386175018099108\n",
      "Episode:82, iterations:139, RAP:0.4342313267918117\n",
      "Episode:83, iterations:25, RAP:0.4298890135238936\n",
      "Episode:84, iterations:65, RAP:0.42559012338865465\n",
      "Episode:85, iterations:80, RAP:0.4213342221547681\n",
      "Episode:86, iterations:9, RAP:0.41712087993322045\n",
      "Episode:87, iterations:182, RAP:0.41294967113388825\n",
      "Episode:88, iterations:148, RAP:0.40882017442254937\n",
      "Episode:89, iterations:30, RAP:0.4047319726783239\n",
      "Episode:90, iterations:132, RAP:0.40068465295154065\n",
      "Episode:91, iterations:177, RAP:0.39667780642202527\n",
      "Episode:92, iterations:13, RAP:0.392711028357805\n",
      "Episode:93, iterations:100, RAP:0.38878391807422696\n",
      "Episode:94, iterations:114, RAP:0.3848960788934847\n",
      "Episode:96, iterations:72, RAP:0.37723664692350434\n",
      "Episode:98, iterations:121, RAP:0.36972963764972655\n",
      "Episode:99, iterations:142, RAP:0.36603234127322926\n"
     ]
    }
   ],
   "source": [
    "Temp=[] ## Initialize a list to hold most recent 50 Game Scores\n",
    "iteration=0 ## Initialize Time Step Number to Avoid initial No variable Error\n",
    "## Set Random Action Probability to Initial Number(=1)\n",
    "random_action_probability = INITIAL_RANDOM_ACTION\n",
    "\n",
    "replay = ReplayBuffer(REPLAY_MEMORY_SIZE) ## Initialize Replay Memory & Specify Maximum Capacity\n",
    "\n",
    "action_model = get_model() ## Initialize action-value model with random weights\n",
    "\n",
    "env = gym.make('CartPole-v1') ## Prepare the OpenAI Cartpole-v1 Environment\n",
    "\n",
    "for episode in range(NUM_EPISODES): ## For Games 0 to Maximum Games Limit\n",
    "    ## If mean over the last 50 Games is >195, then Success!!!\n",
    "    if np.mean(Temp)>195 and iteration>195:\n",
    "        print('Passed') ## Print the information that the model is converged\n",
    "        break ## Terminate after convergence\n",
    "\n",
    "    ## Reduce the Random Action Probability by Decay Factor\n",
    "    random_action_probability *= RANDOM_ACTION_DECAY\n",
    "    observation = env.reset() ## Reset the Environment after Each Game\n",
    "\n",
    "    for iteration in range(MAX_ITERATIONS): ## Timesteps\n",
    "        ## Generate Random Action Probability\n",
    "        random_action_probability = max(random_action_probability, 0.1)\n",
    "        old_observation = observation ## Store Current State\n",
    "        ## If generated fraction<Random Action Probability\n",
    "        if np.random.random() < random_action_probability:\n",
    "            ## Take Random Action (Explore)\n",
    "            action = np.random.choice(range(ACTIONS_DIM))\n",
    "        else: ## IT generated fraction>Random Action Probability\n",
    "\n",
    "            ## Query the Model and Get Q-Values for possible actions\n",
    "            q_values = get_q(action_model, observation)\n",
    "            action = np.argmax(q_values) ## Select the Best Action using Q-Values received\n",
    "        ## Take the Selected Action and Observe Next State\n",
    "        observation, reward, done, info = env.step(action)\n",
    "\n",
    "        if done: ## If Game Over\n",
    "            Samples.append(iteration+1) ## Add Final Score of the Game to the Scores List\n",
    "            ## If Number of Games>50, Calculate Mean Over 50 Games to Check Convergence\n",
    "            if len(Samples)>50:\n",
    "                Temp=Samples[-50:] ## Select Score of Most Recent 50 Games\n",
    "                ## Add Mean of Most Recent 20 Games to a list\n",
    "                Means. append(np.mean (Samples [-20:]))\n",
    "            ## Print End-Of-Game Information\n",
    "            print(('Episode:{}, iterations:{}, RAP:{}'). format (episode, iteration, random_action_probability))\n",
    "\n",
    "            if iteration!=199:\n",
    "                reward = -5 ## Give -5 Reward for Taking Wrong Action Leading to Failure\n",
    "            if iteration==199:\n",
    "                reward= 5 ## Give +5 Reward for Completing the Game Successfully\n",
    "            ## Add the Observation to Replay Memory\n",
    "            replay.add(old_observation, action, reward, None)\n",
    "            break ## Break and Start a new Game\n",
    "\n",
    "        ## Add the Observation to Replay Memory\n",
    "        replay.add(old_observation, action, reward, observation)\n",
    "\n",
    "        ## Update the Deep Q-Network Model\n",
    "        if replay.size() >= MINIBATCH_SIZE and np.random.random()<0.25 and Samples[-1]<195:\n",
    "            sample_transitions = replay.sample(MINIBATCH_SIZE)\n",
    "            update_action(action_model, action_model, sample_transitions)"
   ]
  },
  {
   "cell_type": "markdown",
   "metadata": {},
   "source": [
    "#### Plotting the Training models"
   ]
  },
  {
   "cell_type": "code",
   "execution_count": 102,
   "metadata": {},
   "outputs": [
    {
     "name": "stdout",
     "output_type": "stream",
     "text": [
      "Training Done\n"
     ]
    },
    {
     "data": {
      "image/png": "[encoded data removed]",
      "text/plain": [
       "<Figure size 432x288 with 1 Axes>"
      ]
     },
     "metadata": {
      "needs_background": "light"
     },
     "output_type": "display_data"
    },
    {
     "data": {
      "image/png": "[encoded data removed]",
      "text/plain": [
       "<Figure size 432x288 with 1 Axes>"
      ]
     },
     "metadata": {
      "needs_background": "light"
     },
     "output_type": "display_data"
    }
   ],
   "source": [
    "#Now We plot the Training Results.\n",
    "print(\"Training Done\")\n",
    "plt.plot(Samples)\n",
    "plt.title('Training Phase')\n",
    "plt.ylabel('Time Steps')\n",
    "plt.ylim(ymax=210)\n",
    "plt.xlabel('Trial')\n",
    "plt.savefig('Training.png', bbox_inches='tight')\n",
    "plt.show()\n",
    "\n",
    "plt.plot (Means)\n",
    "plt.title('Mean Score of Last 20 Games')\n",
    "plt.ylabel( 'Time Steps')\n",
    "plt.ylim(ymax=210)\n",
    "plt.xlabel('Trial')\n",
    "plt.savefig('Training_Average.png', bbox_inches='tight')\n",
    "plt.show()"
   ]
  },
  {
   "cell_type": "markdown",
   "metadata": {},
   "source": [
    "#### Testing the model"
   ]
  },
  {
   "cell_type": "code",
   "execution_count": 101,
   "metadata": {
    "id": "kKrOLm4nHpRe"
   },
   "outputs": [
    {
     "name": "stdout",
     "output_type": "stream",
     "text": [
      "143.0\n"
     ]
    },
    {
     "data": {
      "image/png": "[encoded data removed]",
      "text/plain": [
       "<Figure size 432x288 with 1 Axes>"
      ]
     },
     "metadata": {
      "needs_background": "light"
     },
     "output_type": "display_data"
    }
   ],
   "source": [
    "## Here testing the trained model for 10 more games\n",
    "Tests=[] ## Initialize the Game Score List\n",
    "for i in range(0,10): ## Testing for 10 Games\n",
    "    observation = env.reset()\n",
    "    while(True):\n",
    "        old_observation = observation\n",
    "        q_values = get_q(action_model, observation)\n",
    "        action = np.argmax(q_values)\n",
    "        observation, reward, done, info = env.step(action)\n",
    "        if done:\n",
    "            Tests. append(iteration+1)\n",
    "            env.reset()\n",
    "            break\n",
    "print(np.mean(Tests))\n",
    "plt.plot(Tests)\n",
    "plt.title('Testing Phase')\n",
    "plt.ylabel('Time Steps')\n",
    "plt.ylim(ymax=210)\n",
    "plt.xlabel('Trial')\n",
    "plt.show()"
   ]
  }
 ],
 "metadata": {
  "accelerator": "GPU",
  "colab": {
   "name": "ICP-10_Deep_Q-Learning.ipynb",
   "provenance": []
  },
  "kernelspec": {
   "display_name": "Python 3",
   "language": "python",
   "name": "python3"
  },
  "language_info": {
   "codemirror_mode": {
    "name": "ipython",
    "version": 3
   },
   "file_extension": ".py",
   "mimetype": "text/x-python",
   "name": "python",
   "nbconvert_exporter": "python",
   "pygments_lexer": "ipython3",
   "version": "3.8.8"
  }
 },
 "nbformat": 4,
 "nbformat_minor": 1
}
